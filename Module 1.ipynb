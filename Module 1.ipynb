{
 "cells": [
  {
   "cell_type": "markdown",
   "id": "4344f32a-4731-4c26-be73-fc8826da3e34",
   "metadata": {},
   "source": [
    "# Expressions and Vribales"
   ]
  },
  {
   "cell_type": "code",
   "execution_count": 47,
   "id": "955a71f1-1bed-430d-acbf-51c8bfa34cd4",
   "metadata": {},
   "outputs": [
    {
     "data": {
      "text/plain": [
       "4"
      ]
     },
     "execution_count": 47,
     "metadata": {},
     "output_type": "execute_result"
    }
   ],
   "source": [
    "# Addition operation expression\n",
    "2+2"
   ]
  },
  {
   "cell_type": "code",
   "execution_count": 49,
   "id": "eb994d87-4592-4bed-ba42-a8f7a546107e",
   "metadata": {},
   "outputs": [
    {
     "data": {
      "text/plain": [
       "164"
      ]
     },
     "execution_count": 49,
     "metadata": {},
     "output_type": "execute_result"
    }
   ],
   "source": [
    "# Multiplication operation expression\n",
    "2*82"
   ]
  },
  {
   "cell_type": "code",
   "execution_count": 51,
   "id": "198d7f3e-a027-40b3-a0f5-92f917f6f87f",
   "metadata": {},
   "outputs": [
    {
     "data": {
      "text/plain": [
       "5"
      ]
     },
     "execution_count": 51,
     "metadata": {},
     "output_type": "execute_result"
    }
   ],
   "source": [
    "# Integer division operation expression\n",
    "\n",
    "25 // 5"
   ]
  },
  {
   "cell_type": "markdown",
   "id": "a71da1f3-1c39-4b81-b076-d943236ec673",
   "metadata": {},
   "source": [
    "# Variables"
   ]
  },
  {
   "cell_type": "code",
   "execution_count": 55,
   "id": "5f891147-8c8b-4521-a311-c77dd6619ae5",
   "metadata": {},
   "outputs": [
    {
     "data": {
      "text/plain": [
       "2"
      ]
     },
     "execution_count": 55,
     "metadata": {},
     "output_type": "execute_result"
    }
   ],
   "source": [
    "a=2 #here a is variable\n",
    "a"
   ]
  },
  {
   "cell_type": "code",
   "execution_count": 58,
   "id": "2a8fcd33-7971-44c7-a96f-e5f582fb8388",
   "metadata": {},
   "outputs": [
    {
     "data": {
      "text/plain": [
       "'Razan'"
      ]
     },
     "execution_count": 58,
     "metadata": {},
     "output_type": "execute_result"
    }
   ],
   "source": [
    "a=\"Razan\"\n",
    "a"
   ]
  },
  {
   "cell_type": "markdown",
   "id": "bfef3882-306b-47c1-9077-8129cb215dc9",
   "metadata": {},
   "source": [
    "# String Operations"
   ]
  },
  {
   "cell_type": "code",
   "execution_count": 1,
   "id": "94e8ef3a-dd80-4d29-8e96-3a332c8fb3bd",
   "metadata": {},
   "outputs": [],
   "source": [
    "#strings"
   ]
  },
  {
   "cell_type": "code",
   "execution_count": 2,
   "id": "59fb2542-8008-42ad-9681-14e1f3ab54f9",
   "metadata": {},
   "outputs": [
    {
     "data": {
      "text/plain": [
       "'Razan Mujawar'"
      ]
     },
     "execution_count": 2,
     "metadata": {},
     "output_type": "execute_result"
    }
   ],
   "source": [
    "\"Razan Mujawar\""
   ]
  },
  {
   "cell_type": "code",
   "execution_count": 4,
   "id": "2e477ee3-e22f-4327-bae8-3400c2996b24",
   "metadata": {},
   "outputs": [
    {
     "data": {
      "text/plain": [
       "'Razan Mujawar'"
      ]
     },
     "execution_count": 4,
     "metadata": {},
     "output_type": "execute_result"
    }
   ],
   "source": [
    "# Assign string to variable\n",
    "\n",
    "name = \"Razan Mujawar\"\n",
    "name"
   ]
  },
  {
   "cell_type": "code",
   "execution_count": 6,
   "id": "4ee40ba9-8c6c-4668-a295-e59569e8277a",
   "metadata": {},
   "outputs": [
    {
     "name": "stdout",
     "output_type": "stream",
     "text": [
      "R\n"
     ]
    }
   ],
   "source": [
    "# Print the first element in the string\n",
    "print(name[0])"
   ]
  },
  {
   "cell_type": "code",
   "execution_count": 8,
   "id": "ec906ebb-5979-40ab-a49c-cfbbe2ed831b",
   "metadata": {},
   "outputs": [
    {
     "name": "stdout",
     "output_type": "stream",
     "text": [
      "w\n"
     ]
    }
   ],
   "source": [
    "# Print the last element in the string\n",
    "print(name[10])"
   ]
  },
  {
   "cell_type": "code",
   "execution_count": 8,
   "id": "11de90e5-2871-4b81-9c3d-2e7c625920db",
   "metadata": {},
   "outputs": [],
   "source": [
    "#negative indexing"
   ]
  },
  {
   "cell_type": "code",
   "execution_count": 10,
   "id": "9f0dd98f-8bb1-4db8-856a-fcdee9daaaa9",
   "metadata": {},
   "outputs": [
    {
     "name": "stdout",
     "output_type": "stream",
     "text": [
      "r\n"
     ]
    }
   ],
   "source": [
    "# Print the last element in the string\n",
    "\n",
    "print(name[-1])"
   ]
  },
  {
   "cell_type": "code",
   "execution_count": 12,
   "id": "acca4ce8-15fa-49aa-99ef-2678acfcbfcf",
   "metadata": {},
   "outputs": [
    {
     "name": "stdout",
     "output_type": "stream",
     "text": [
      "z\n"
     ]
    }
   ],
   "source": [
    "# Print the first element in the string\n",
    "\n",
    "print(name[-11])"
   ]
  },
  {
   "cell_type": "code",
   "execution_count": 11,
   "id": "a10ff94e-d024-4c46-a3f6-3833ead9e17a",
   "metadata": {},
   "outputs": [],
   "source": [
    "#slicing"
   ]
  },
  {
   "cell_type": "code",
   "execution_count": 18,
   "id": "64a8d6f5-d93f-45c0-8b05-426389379326",
   "metadata": {},
   "outputs": [
    {
     "data": {
      "text/plain": [
       "'Razan Mu'"
      ]
     },
     "execution_count": 18,
     "metadata": {},
     "output_type": "execute_result"
    }
   ],
   "source": [
    "name[0:8]"
   ]
  },
  {
   "cell_type": "code",
   "execution_count": 22,
   "id": "769cfe78-a690-450a-858c-ea590d8a9838",
   "metadata": {},
   "outputs": [
    {
     "data": {
      "text/plain": [
       "'Mujawar'"
      ]
     },
     "execution_count": 22,
     "metadata": {},
     "output_type": "execute_result"
    }
   ],
   "source": [
    "name[6:13]"
   ]
  },
  {
   "cell_type": "code",
   "execution_count": 15,
   "id": "ee3b6069-fafe-48b9-8d59-a6a0453cea36",
   "metadata": {},
   "outputs": [],
   "source": [
    "#striding"
   ]
  },
  {
   "cell_type": "code",
   "execution_count": 24,
   "id": "4f6693e6-a621-4758-bd72-bb8001cff7fe",
   "metadata": {},
   "outputs": [
    {
     "data": {
      "text/plain": [
       "'RznMjwr'"
      ]
     },
     "execution_count": 24,
     "metadata": {},
     "output_type": "execute_result"
    }
   ],
   "source": [
    "name[::2]"
   ]
  },
  {
   "cell_type": "code",
   "execution_count": 26,
   "id": "81860905-887b-4fa2-bce6-9db2ccff27b8",
   "metadata": {},
   "outputs": [
    {
     "data": {
      "text/plain": [
       "'Rzn'"
      ]
     },
     "execution_count": 26,
     "metadata": {},
     "output_type": "execute_result"
    }
   ],
   "source": [
    "name[0:5:2]"
   ]
  },
  {
   "cell_type": "code",
   "execution_count": 25,
   "id": "f169268a-1c50-47c1-8236-e9f13e472705",
   "metadata": {},
   "outputs": [],
   "source": [
    "#Concatenate Strings"
   ]
  },
  {
   "cell_type": "code",
   "execution_count": 30,
   "id": "126ee13b-6d5e-473a-9cd5-343f8aa53494",
   "metadata": {},
   "outputs": [
    {
     "name": "stdout",
     "output_type": "stream",
     "text": [
      "Heyyy!!! Razan Mujawar\n"
     ]
    }
   ],
   "source": [
    "print('Heyyy!!! '+name)"
   ]
  },
  {
   "cell_type": "code",
   "execution_count": 27,
   "id": "f2c4c69f-9d48-4773-a5d3-23d01a912fa5",
   "metadata": {},
   "outputs": [],
   "source": [
    "#Concatenate Strings"
   ]
  },
  {
   "cell_type": "code",
   "execution_count": 36,
   "id": "9b17958f-a8c3-4134-a1ab-f9329c2cb76f",
   "metadata": {},
   "outputs": [
    {
     "name": "stdout",
     "output_type": "stream",
     "text": [
      " Heyy!!!\n",
      " My name is\n",
      " Razan Mujawar\n"
     ]
    }
   ],
   "source": [
    "# New line escape sequence\n",
    "\n",
    "print(\" Heyy!!!\\n My name is\\n Razan Mujawar\" )"
   ]
  },
  {
   "cell_type": "code",
   "execution_count": 40,
   "id": "e6b7c4cc-3c73-497c-9d78-e4566356f382",
   "metadata": {},
   "outputs": [
    {
     "name": "stdout",
     "output_type": "stream",
     "text": [
      " Heyyy!!!\t My name\t is Razan Mujawar\n"
     ]
    }
   ],
   "source": [
    "# Tab escape sequence\n",
    "print(\" Heyyy!!!\\t My name\\t is Razan Mujawar\" )"
   ]
  },
  {
   "cell_type": "code",
   "execution_count": 42,
   "id": "1c0d9964-5a06-4a21-b41c-db5d2ad57707",
   "metadata": {},
   "outputs": [
    {
     "name": "stdout",
     "output_type": "stream",
     "text": [
      " Heyyy!!!\n",
      " My name\\ is Razan Mujawar\n"
     ]
    }
   ],
   "source": [
    "# Include back slash in string\n",
    "print(\" Heyyy!!!\\n My name\\\\ is Razan Mujawar\" )"
   ]
  },
  {
   "cell_type": "code",
   "execution_count": null,
   "id": "dbd0ba0c-0198-484c-a250-cf1d84473762",
   "metadata": {},
   "outputs": [],
   "source": []
  }
 ],
 "metadata": {
  "kernelspec": {
   "display_name": "Python 3 (ipykernel)",
   "language": "python",
   "name": "python3"
  },
  "language_info": {
   "codemirror_mode": {
    "name": "ipython",
    "version": 3
   },
   "file_extension": ".py",
   "mimetype": "text/x-python",
   "name": "python",
   "nbconvert_exporter": "python",
   "pygments_lexer": "ipython3",
   "version": "3.12.4"
  }
 },
 "nbformat": 4,
 "nbformat_minor": 5
}
